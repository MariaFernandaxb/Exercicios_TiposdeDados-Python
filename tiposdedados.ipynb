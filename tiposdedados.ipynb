{
 "cells": [
  {
   "cell_type": "markdown",
   "metadata": {},
   "source": [
    "#Exercício 1\n",
    "\n",
    "- Faça um Programa que mostre a mensagem \"Isadora é minha professora favorita”"
   ]
  },
  {
   "cell_type": "code",
   "execution_count": 2,
   "metadata": {},
   "outputs": [
    {
     "name": "stdout",
     "output_type": "stream",
     "text": [
      "Isadora é a minha professora favorita! \n"
     ]
    }
   ],
   "source": [
    "print(\"Isadora é a minha professora favorita! \")"
   ]
  },
  {
   "cell_type": "markdown",
   "metadata": {},
   "source": [
    "#Exercício 2\n",
    "\n",
    " - Faça um Programa que leia cinco números e mostre o maior e o menor deles."
   ]
  },
  {
   "cell_type": "code",
   "execution_count": 5,
   "metadata": {},
   "outputs": [
    {
     "name": "stdout",
     "output_type": "stream",
     "text": [
      "[3, 7, 36, 48, 96]\n",
      "O menor numero é:  3 \n",
      "O maior numero é:  96\n",
      "96\n",
      "3\n"
     ]
    }
   ],
   "source": [
    "# ok\n",
    "numeros = [48,96,7,36,3]\n",
    "numeros.sort()\n",
    "print(numeros)\n",
    "\n",
    "maior_num = numeros[-1]\n",
    "menor_num = numeros[0]\n",
    "print(\"O menor numero é: \", menor_num, \"\\nO maior numero é: \", maior_num,)\n",
    "\n",
    "#outra forma\n",
    "print(max(numeros))\n",
    "print(min(numeros))\n"
   ]
  },
  {
   "cell_type": "markdown",
   "metadata": {},
   "source": [
    "#Exercício 3 \n",
    "\n",
    "- Faça um programa que calcule e mostre a média aritmética de N notas.\n",
    "N notas = o usuário pode selecionar a quantidade de notas\n"
   ]
  },
  {
   "cell_type": "code",
   "execution_count": 2,
   "metadata": {},
   "outputs": [
    {
     "name": "stdout",
     "output_type": "stream",
     "text": [
      "3.3333333333333335\n"
     ]
    }
   ],
   "source": [
    "quantidade = int(input(\"Digite a quantidade de notas: \"))\n",
    "soma = 0 \n",
    "divisor = 0\n",
    "while quantidade > 0:\n",
    "    notas = int(input(\"Digite a nota: \"))\n",
    "    soma += notas\n",
    "    quantidade -=1\n",
    "    divisor += 1\n",
    "\n",
    "media = notas / divisor\n",
    "print(media)  "
   ]
  },
  {
   "cell_type": "markdown",
   "metadata": {},
   "source": [
    "#Exercício 4\n",
    "\n",
    "- Faça um programa que, dado um conjunto de N números, determine o menor valor, o \n",
    "maior valor e a soma dos valores."
   ]
  },
  {
   "cell_type": "code",
   "execution_count": 6,
   "metadata": {},
   "outputs": [
    {
     "name": "stdout",
     "output_type": "stream",
     "text": [
      "[1, 6, 37, 55, 99, 120]\n",
      "O menor numero é:  1 \n",
      "O maior numero é:  120\n",
      "A soma do menor e do maior numero é:  121\n",
      "318\n"
     ]
    }
   ],
   "source": [
    "#ok\n",
    "numeros = [55,120,99,1,37,6]\n",
    "numeros.sort()\n",
    "print(numeros)\n",
    "\n",
    "maior_num = numeros[-1]\n",
    "menor_num = numeros[0]\n",
    "print(\"O menor numero é: \", menor_num, \"\\nO maior numero é: \", maior_num,)\n",
    "print(\"A soma do menor e do maior numero é: \" , (maior_num + menor_num))\n",
    "\n",
    "#somar todos os numeros dentro da lista\n",
    "print(sum(numeros))"
   ]
  },
  {
   "cell_type": "markdown",
   "metadata": {},
   "source": [
    "#Exercício 5\n",
    "\n",
    "- Faça um Programa que peça as quatro notas de 10 alunos, calcule e armazene num\n",
    "vetor a média de cada aluno, imprima o número de alunos com média maior ou igual a\n",
    "7.0."
   ]
  },
  {
   "cell_type": "code",
   "execution_count": null,
   "metadata": {},
   "outputs": [],
   "source": [
    "media_alunos = []\n",
    "qntd = 0\n",
    "while qntd < 2: \n",
    "\n",
    "    n1 = int(input(\"Digite a 1º nota: \"))\n",
    "    n2 = int(input(\"Digite a 2º nota: \"))\n",
    "    n3 = int(input(\"Digite a 3º nota: \"))\n",
    "    n4 = int(input(\"Digite a 4º nota: \"))\n",
    "\n",
    "    media = ( n1 + n2 + n3 + n4) /4 \n",
    "\n",
    "    qntd += 1 #metodo de parada do while\n",
    "\n",
    "    if media >= 7:\n",
    "        media_alunos.append(media)\n",
    "        print(media)\n",
    "print(len(media_alunos))\n",
    "  "
   ]
  },
  {
   "cell_type": "markdown",
   "metadata": {},
   "source": [
    "#Exercício 6\n",
    "\n",
    "- Utilizando listas faça um programa que faça 5 perguntas para uma pessoa sobre um\n",
    "crime. As perguntas são:\n",
    "\"Telefonou para a vítima?\"\n",
    "\"Esteve no local do crime?\"\n",
    "\"Mora perto da vítima?\"\n",
    "\"Devia para a vítima?\"\n",
    "\"Já trabalhou com a vítima?\" O programa deve no final emitir uma\n",
    "classificação sobre a participação da pessoa no crime. Se a pessoa\n",
    "responder positivamente a 2 questões ela deve ser classificada como\n",
    "\"Suspeita\", entre 3 e 4 como \"Cúmplice\" e 5 como \"Assassino\". Caso\n",
    "contrário, ele será classificado como \"Inocente\"."
   ]
  },
  {
   "cell_type": "code",
   "execution_count": 2,
   "metadata": {},
   "outputs": [],
   "source": [
    "perg_1 = input(\"Telefonou para a vítima?\")\n",
    "perg_2 = input(\"Esteve no local do crime?\")\n",
    "perg_3 = input(\"Mora perto da vítima?\")\n",
    "perg_4 = input( \"Devia para a vítima?\")\n",
    "perg_5 = input(\"Já trabalhou com a vítima?\")\n",
    "\n",
    "respostas = [perg_1,perg_2,perg_3,perg_4,perg_5]\n",
    "\n",
    "sims = 0\n",
    "\n",
    "for resposta in respostas:\n",
    "    if resposta == 'sim':\n",
    "        sims += 1\n",
    "if sims == 2:\n",
    "    print(\"Supeita\")\n",
    "elif sims == 3 or sims == 4 :\n",
    "    print(\"Cúmplice\")\n",
    "elif sims == 5: \n",
    "    print(\"Assassino\")\n",
    "else: \n",
    "    print(\"Inocente\")\n",
    "\n",
    "\n"
   ]
  },
  {
   "cell_type": "markdown",
   "metadata": {},
   "source": [
    "#Exercício 7\n",
    "\n",
    "- Faça um programa que peça uma nota, entre zero e dez. Mostre uma mensagem\n",
    "caso o valor seja inválido e continue pedindo até que o usuário informe um valor válido."
   ]
  },
  {
   "cell_type": "code",
   "execution_count": 2,
   "metadata": {},
   "outputs": [],
   "source": [
    "# Ok\n",
    "nota = int(input(\"Digite uma nota de zero a dez: \"))\n",
    "\n",
    "while nota < 0 and nota > 10:\n",
    "    nota = int(input(\"Digite a nota: \"))\n",
    "    print(\"Valor válido \")\n"
   ]
  },
  {
   "cell_type": "markdown",
   "metadata": {},
   "source": [
    "#Exercício 8\n",
    "\n",
    "- Faça um programa que imprima na tela apenas os números ímpares entre 1 e 50.."
   ]
  },
  {
   "cell_type": "code",
   "execution_count": null,
   "metadata": {},
   "outputs": [],
   "source": [
    "for numeros in range(1,51): #começar do 1\n",
    "    if numeros % 2 !=0: #Resto da divisão 2 diferente de 0\n",
    "        print(numeros)\n"
   ]
  },
  {
   "cell_type": "markdown",
   "metadata": {},
   "source": [
    "#Exercício 9\n",
    "\n",
    " - Tamanho de strings. Faça um programa que leia 2 strings e informe o conteúdo delas\n",
    "seguido do seu comprimento. Informe também se as duas strings possuem o mesmo\n",
    "comprimento e são iguais ou diferentes no conteúdo.\n",
    "Compare duas strings\n",
    "String 1: Brasil Hexa 2022\n",
    "String 2: Brasil! Hexa 2022!\n",
    "Tamanho de \"Brasil Hexa 2022\": 16 caracteres\n",
    "Tamanho de Brasil! Hexa 2022!\": 18 caracteres\n",
    "As duas strings são de tamanhos diferentes.\n",
    "As duas strings possuem conteúdo diferente"
   ]
  },
  {
   "cell_type": "code",
   "execution_count": null,
   "metadata": {},
   "outputs": [],
   "source": [
    "    \n",
    "string1= input(\"Digite uma frase: \")\n",
    "string2 = input(\"Digite outra frase: \")\n",
    "\n",
    "print(f\"Tamanho de: {string1}: \" , len(string1),\"caracteres\")\n",
    "print(f\"Tamanho de: {string2}: \" ,len(string2),\"caracteres\")\n",
    " \n",
    "if len(string1) == len(string2):\n",
    "    print(\"As duas strings contém tamanhos iguais \")\n",
    "else: \n",
    "    print(\"As duas strings contém tamanhos diferentes\")\n",
    "\n",
    "if string1 != string2:\n",
    "    print(\"As duas strings possuem conteúdos diferentes\")\n",
    "else:\n",
    "     print(\"As duas strings possuem conteúdos iguais\")\n",
    "\n"
   ]
  },
  {
   "cell_type": "markdown",
   "metadata": {},
   "source": [
    "#Exercício 10\n",
    "\n",
    "- Programa nome ao contrário em maiúsculas. Faça um programa que permita ao usuário\n",
    "digitar o seu nome e em seguida mostre o nome do usuário de trás para frente utilizando\n",
    "somente letras maiúsculas. Dica: lembre−se que ao informar o nome o usuário pode digitar\n",
    "letras maiúsculas ou minúsculas.\n",
    "Nome na vertical. Faça um programa que solicite o nome do usuário e imprima-o na vertical.\n",
    "EX:\n",
    "K\n",
    "E\n",
    "N\n",
    "J\n",
    "I\n"
   ]
  },
  {
   "cell_type": "code",
   "execution_count": null,
   "metadata": {},
   "outputs": [],
   "source": [
    "nome = input(\"Digite seu nome: \")\n",
    "nome_reverse = []\n",
    "    \n",
    "for letras in nome:\n",
    "    nome_reverse.append(letras)\n",
    "    print(letras.upper()) #Upper = transformar em maiúsculas. \n",
    "\n",
    "print(nome_reverse[-1::-1])\n"
   ]
  },
  {
   "cell_type": "markdown",
   "metadata": {},
   "source": [
    "#Exercício 11\n",
    "- Conte os espaços e vogais: Dado uma string com uma frase informada pelo usuário\n",
    "(incluindo espaços em branco), conte:\n",
    "1. quantos espaços em branco existem na frase.\n",
    "2. quantas vezes aparecem as vogais a, e, i, o, u.\n"
   ]
  },
  {
   "cell_type": "code",
   "execution_count": null,
   "metadata": {},
   "outputs": [],
   "source": [
    "frase = input(\"Digite uma frase: \")\n",
    "espaco = 0\n",
    "vogais = 0\n",
    "\n",
    "for letra in frase:\n",
    "    if letra in \" \":\n",
    "        espaco += 1\n",
    "    elif letra.lower() in \"aeiou\": #aceita maiúscula ou minúscula. \n",
    "        vogais += 1\n",
    "\n",
    "print(f\"Espaços em branco : {espaco}\")\n",
    "print(f\"Vogais : {vogais}\")\n"
   ]
  },
  {
   "cell_type": "markdown",
   "metadata": {},
   "source": [
    "#Exercício 12 \n",
    "\n",
    "- Valide e corrija o número de telefone. Faça um programa que leia um número de\n",
    "telefone, e corrija o número no caso deste conter somente 7 dígitos, adicionando o '9' na\n",
    "frente. O usuário pode informar o número com ou sem o traço separador.\n",
    "Valida e corrige número de telefone\n",
    "Telefone: 461-0133\n",
    "O telefone possui 9 dígitos. Vou acrescentar o dígito nove na frente.\n",
    "Telefone corrigido sem formatação: 34610133\n",
    "Telefone corrigido com formatação: 93461-013"
   ]
  },
  {
   "cell_type": "code",
   "execution_count": null,
   "metadata": {},
   "outputs": [],
   "source": [
    "\n",
    "telefone = input(\"Digite o numero do telefone: \") #telefone e cpf recebe 'str'\n",
    "print(telefone)\n",
    "\n",
    "if len(telefone) == 7: #como identificar o traço separador ? \n",
    "    adc_9 = \"9\" + telefone\n",
    "    print(adc_9)\n",
    "  \n"
   ]
  },
  {
   "cell_type": "code",
   "execution_count": null,
   "metadata": {},
   "outputs": [],
   "source": []
  }
 ],
 "metadata": {
  "kernelspec": {
   "display_name": "Python 3",
   "language": "python",
   "name": "python3"
  },
  "language_info": {
   "codemirror_mode": {
    "name": "ipython",
    "version": 3
   },
   "file_extension": ".py",
   "mimetype": "text/x-python",
   "name": "python",
   "nbconvert_exporter": "python",
   "pygments_lexer": "ipython3",
   "version": "3.11.4"
  },
  "orig_nbformat": 4
 },
 "nbformat": 4,
 "nbformat_minor": 2
}
